{
 "cells": [
  {
   "cell_type": "code",
   "execution_count": 2,
   "outputs": [
    {
     "ename": "ModuleNotFoundError",
     "evalue": "No module named 'src.dataloaders'",
     "output_type": "error",
     "traceback": [
      "\u001B[0;31m---------------------------------------------------------------------------\u001B[0m",
      "\u001B[0;31mModuleNotFoundError\u001B[0m                       Traceback (most recent call last)",
      "\u001B[0;32m/tmp/ipykernel_133913/2561517432.py\u001B[0m in \u001B[0;36m<module>\u001B[0;34m\u001B[0m\n\u001B[1;32m     11\u001B[0m \u001B[0;34m\u001B[0m\u001B[0m\n\u001B[1;32m     12\u001B[0m \u001B[0;32mfrom\u001B[0m \u001B[0msrc\u001B[0m\u001B[0;34m.\u001B[0m\u001B[0mconfig\u001B[0m \u001B[0;32mimport\u001B[0m \u001B[0mConfig\u001B[0m\u001B[0;34m\u001B[0m\u001B[0;34m\u001B[0m\u001B[0m\n\u001B[0;32m---> 13\u001B[0;31m \u001B[0;32mfrom\u001B[0m \u001B[0msrc\u001B[0m\u001B[0;34m.\u001B[0m\u001B[0mdataloaders\u001B[0m\u001B[0;34m.\u001B[0m\u001B[0mdataloader\u001B[0m \u001B[0;32mimport\u001B[0m \u001B[0mChineseBertDataset\u001B[0m\u001B[0;34m\u001B[0m\u001B[0;34m\u001B[0m\u001B[0m\n\u001B[0m\u001B[1;32m     14\u001B[0m \u001B[0;32mfrom\u001B[0m \u001B[0msrc\u001B[0m\u001B[0;34m.\u001B[0m\u001B[0mmodels\u001B[0m\u001B[0;34m.\u001B[0m\u001B[0moriginal_model_bert\u001B[0m \u001B[0;32mimport\u001B[0m \u001B[0mMultiSentFeatClassifier\u001B[0m\u001B[0;34m,\u001B[0m \u001B[0mBertClassifier\u001B[0m\u001B[0;34m\u001B[0m\u001B[0;34m\u001B[0m\u001B[0m\n\u001B[1;32m     15\u001B[0m \u001B[0;34m\u001B[0m\u001B[0m\n",
      "\u001B[0;31mModuleNotFoundError\u001B[0m: No module named 'src.dataloaders'"
     ]
    }
   ],
   "source": [
    "import torch\n",
    "from sklearn.manifold import TSNE\n",
    "import numpy as np\n",
    "import matplotlib.pyplot as plt\n",
    "import random\n",
    "\n",
    "from sklearn.metrics import precision_recall_fscore_support, classification_report, confusion_matrix\n",
    "from torch import nn, optim\n",
    "from torch.utils.data import DataLoader\n",
    "from tqdm import tqdm\n",
    "\n",
    "from src.config import Config\n",
    "from src.dataloaders.dataloader import ChineseBertDataset\n",
    "from src.models.original_model_bert import MultiSentFeatClassifier, BertClassifier\n",
    "\n",
    "\n",
    "def load_model():\n",
    "    print(\"Loading model\")\n",
    "    model_saved_dict = torch.load(model_save_path)\n",
    "    model_dict = model.state_dict()\n",
    "    # 1. filter out unnecessary keys\n",
    "    model_saved_dict = {k: v for k, v in model_saved_dict.items() if k in model_dict}\n",
    "    # 2. overwrite entries in the existing state dict\n",
    "    model_dict.update(model_saved_dict)\n",
    "    model.load_state_dict(model_dict)\n",
    "\n",
    "\n",
    "def train():\n",
    "    model.init_weights()\n",
    "    loss_function = nn.CrossEntropyLoss()\n",
    "    params = filter(lambda p: p.requires_grad, model.parameters())\n",
    "    optimizer = optim.Adam(params, lr=5e-5, betas=(0.9, 0.999), eps=1e-8, weight_decay=0)\n",
    "    # 总loss值\n",
    "    for epoch in range(config.epoch):\n",
    "        total_loss = 0\n",
    "        model.train()\n",
    "        train_data_tqdm = tqdm(train_dataloader)\n",
    "        for data in train_data_tqdm:\n",
    "            model.zero_grad()\n",
    "            # optimizer.zero_grad() 和 model.zero_grad()等效\n",
    "            # 获取batch信息\n",
    "            token_ids, masks, _, out, para, positional_embedding = data\n",
    "            _output, _, _, _ = model(token_ids, masks, para, positional_embedding)\n",
    "            # 计算交叉熵\n",
    "            out = out.squeeze(0)\n",
    "            loss = loss_function(_output, out)\n",
    "            # 累加loss值\n",
    "            total_loss += loss.item()\n",
    "            loss.backward()\n",
    "            optimizer.step()\n",
    "            train_data_tqdm.set_description(f'Epoch {epoch}')\n",
    "            train_data_tqdm.set_postfix(loss=loss.item())\n",
    "            del token_ids, masks, out\n",
    "            if config.device == 'cuda':\n",
    "                torch.cuda.empty_cache()\n",
    "        torch.save(model.state_dict(), model_save_path)\n",
    "\n",
    "\n",
    "def evaluate():\n",
    "    global label_list, sentence_feature_list, discourse_feature_list\n",
    "    y_true, y_pred = [], []\n",
    "    model.eval()\n",
    "    data_tqdm = tqdm(train_dataloader, desc=r\"Test\")\n",
    "    index = 0\n",
    "    load_model()\n",
    "    with torch.no_grad():\n",
    "        for data in data_tqdm:\n",
    "            token_ids, masks, _, out, para, positional_embedding = data\n",
    "            out = out.squeeze(0)\n",
    "            _output, _, pre_pred, disc_encoding = model(token_ids, masks, para, positional_embedding)\n",
    "            sentence_feature_list += pre_pred\n",
    "            discourse_feature_list += [disc_encoding[0]]\n",
    "            _output = _output.squeeze()\n",
    "            _, predict = torch.max(_output, 1)\n",
    "            if torch.cuda.is_available():\n",
    "                predict = predict.cpu()\n",
    "                out = out.cpu()\n",
    "            y_pred += list(predict.numpy())\n",
    "            temp_true = list(out.numpy())\n",
    "            y_true += temp_true\n",
    "            index += 1\n",
    "            if index >= 100:\n",
    "                break\n",
    "    label_list = y_true\n",
    "    macro_scores = precision_recall_fscore_support(y_true, y_pred, average='macro')\n",
    "    micro_scores = precision_recall_fscore_support(y_true, y_pred, average='micro')\n",
    "    print(\"Classification Report \\n\", classification_report(y_true, y_pred, digits=4))\n",
    "    print(\"MACRO: \", macro_scores)\n",
    "    print(\"MICRO: \", micro_scores)\n",
    "    print(\"\\nConfusion Matrix \\n\", confusion_matrix(y_true, y_pred))\n",
    "\n",
    "\n",
    "config = Config()\n",
    "config.epoch = 40\n",
    "model_save_path = r'test_model.ckpt'\n",
    "model = MultiSentFeatClassifier(config).to(config.device)\n",
    "# model = BertClassifier(config).to(config.device)\n",
    "print(\"Loading trainset\")\n",
    "train_dataset = ChineseBertDataset(config, r'data/train/')\n",
    "train_dataloader = DataLoader(train_dataset, shuffle=False)\n",
    "# eval_dataset = ChineseBertDataset(config, r'data/validation')\n",
    "# eval_dataloader = DataLoader(eval_dataset, shuffle=False)\n",
    "# test_dataset = ChineseBertDataset(config, r'data/test')\n",
    "# test_dataloader = DataLoader(test_dataset, shuffle=False)\n",
    "\n",
    "# train()\n",
    "\n",
    "sentence_feature_list = []\n",
    "# discourse_feature_list = []\n",
    "label_list = []\n",
    "\n",
    "evaluate()"
   ],
   "metadata": {
    "collapsed": false,
    "pycharm": {
     "name": "#%%\n"
    }
   }
  },
  {
   "cell_type": "code",
   "execution_count": null,
   "outputs": [],
   "source": [
    "# sentence_features = torch.cat([i[None, :] for i in sentence_feature_list]).to('cpu')\n",
    "# tsne = TSNE(n_components=2, init='pca', verbose=1)\n",
    "# embedding = tsne.fit_transform(sentence_features)\n",
    "sentence_features = torch.cat([i[None, :] for i in sentence_feature_list]).to('cpu')\n",
    "# discourse_features = torch.cat([i[None, :] for i in discourse_feature_list]).to('cpu')\n",
    "# feature_list = torch.cat([sentence_features, discourse_features])\n",
    "tsne = TSNE(n_components=3, init='pca', verbose=1)\n",
    "embedding = tsne.fit_transform(sentence_features)"
   ],
   "metadata": {
    "collapsed": false,
    "pycharm": {
     "name": "#%%\n"
    }
   }
  },
  {
   "cell_type": "code",
   "execution_count": null,
   "outputs": [],
   "source": [
    "with open(r'embedding.txt', 'w') as f:\n",
    "    for i in embedding:\n",
    "        f.write(' '.join([str(x) for x in i]))\n",
    "        f.write('\\n')\n",
    "# label_list += [9] * discourse_features.shape[0]\n",
    "with open(r'labels.txt', 'w') as f:\n",
    "    for i in label_list:\n",
    "        f.write(str(i))\n",
    "        f.write('\\n')"
   ],
   "metadata": {
    "collapsed": false,
    "pycharm": {
     "name": "#%%\n"
    }
   }
  },
  {
   "cell_type": "code",
   "execution_count": null,
   "outputs": [],
   "source": [
    "out_map = {'NA': 0, 'M1': 1, 'M2': 2, 'C1': 3, 'C2': 4,\n",
    "           'HI': 5,\n",
    "           'AN': 6, 'EV': 7, 'EX': 8}\n",
    "m = dict(zip(out_map.values(), out_map.keys()))\n",
    "plt.figure(figsize=(15, 11))\n",
    "# ax = plt.gca(projection='3d')\n",
    "ax = plt.subplot()\n",
    "n = 180\n",
    "# n = embedding.shape[0]\n",
    "ax.scatter(embedding[:n, 0], embedding[:n, 1],\n",
    "           s=200,\n",
    "           linewidth=2,\n",
    "           c=[(label_list[i] + 1) / 10 for i in range(n)],\n",
    "           cmap='Dark2')\n",
    "for i in range(0, n, 2):\n",
    "    x = embedding[i][0]\n",
    "    y = embedding[i][1]\n",
    "    ax.text(x, y, m[label_list[i]], fontsize=15)\n",
    "plt.show()"
   ],
   "metadata": {
    "collapsed": false,
    "pycharm": {
     "name": "#%%\n"
    }
   }
  }
 ],
 "metadata": {
  "kernelspec": {
   "display_name": "Python 3",
   "language": "python",
   "name": "python3"
  },
  "language_info": {
   "codemirror_mode": {
    "name": "ipython",
    "version": 2
   },
   "file_extension": ".py",
   "mimetype": "text/x-python",
   "name": "python",
   "nbconvert_exporter": "python",
   "pygments_lexer": "ipython2",
   "version": "2.7.6"
  }
 },
 "nbformat": 4,
 "nbformat_minor": 0
}